{
 "cells": [
  {
   "cell_type": "code",
   "execution_count": 1,
   "metadata": {},
   "outputs": [
    {
     "output_type": "execute_result",
     "data": {
      "text/plain": "   Purchase ID             SN  Age Gender  Item ID  \\\n0            0        Lisim78   20   Male      108   \n1            1    Lisovynya38   40   Male      143   \n2            2     Ithergue48   24   Male       92   \n3            3  Chamassasya86   24   Male      100   \n4            4      Iskosia90   23   Male      131   \n\n                                   Item Name  Price  \n0  Extraction, Quickblade Of Trembling Hands   3.53  \n1                          Frenzied Scimitar   1.56  \n2                               Final Critic   4.88  \n3                                Blindscythe   3.27  \n4                                       Fury   1.44  ",
      "text/html": "<div>\n<style scoped>\n    .dataframe tbody tr th:only-of-type {\n        vertical-align: middle;\n    }\n\n    .dataframe tbody tr th {\n        vertical-align: top;\n    }\n\n    .dataframe thead th {\n        text-align: right;\n    }\n</style>\n<table border=\"1\" class=\"dataframe\">\n  <thead>\n    <tr style=\"text-align: right;\">\n      <th></th>\n      <th>Purchase ID</th>\n      <th>SN</th>\n      <th>Age</th>\n      <th>Gender</th>\n      <th>Item ID</th>\n      <th>Item Name</th>\n      <th>Price</th>\n    </tr>\n  </thead>\n  <tbody>\n    <tr>\n      <th>0</th>\n      <td>0</td>\n      <td>Lisim78</td>\n      <td>20</td>\n      <td>Male</td>\n      <td>108</td>\n      <td>Extraction, Quickblade Of Trembling Hands</td>\n      <td>3.53</td>\n    </tr>\n    <tr>\n      <th>1</th>\n      <td>1</td>\n      <td>Lisovynya38</td>\n      <td>40</td>\n      <td>Male</td>\n      <td>143</td>\n      <td>Frenzied Scimitar</td>\n      <td>1.56</td>\n    </tr>\n    <tr>\n      <th>2</th>\n      <td>2</td>\n      <td>Ithergue48</td>\n      <td>24</td>\n      <td>Male</td>\n      <td>92</td>\n      <td>Final Critic</td>\n      <td>4.88</td>\n    </tr>\n    <tr>\n      <th>3</th>\n      <td>3</td>\n      <td>Chamassasya86</td>\n      <td>24</td>\n      <td>Male</td>\n      <td>100</td>\n      <td>Blindscythe</td>\n      <td>3.27</td>\n    </tr>\n    <tr>\n      <th>4</th>\n      <td>4</td>\n      <td>Iskosia90</td>\n      <td>23</td>\n      <td>Male</td>\n      <td>131</td>\n      <td>Fury</td>\n      <td>1.44</td>\n    </tr>\n  </tbody>\n</table>\n</div>"
     },
     "metadata": {},
     "execution_count": 1
    }
   ],
   "source": [
    "# Dependencies and Setup\n",
    "import pandas as pd\n",
    "\n",
    "# File to Load (Remember to Change These)\n",
    "file_to_load = \"Resources/purchase_data.csv\"\n",
    "\n",
    "# Read Purchasing File and store into Pandas data frame\n",
    "purchase_data = pd.read_csv(file_to_load)\n",
    "purchase_data.head()"
   ]
  },
  {
   "cell_type": "code",
   "execution_count": 2,
   "metadata": {},
   "outputs": [
    {
     "output_type": "execute_result",
     "data": {
      "text/plain": "   Total Players\n0            576",
      "text/html": "<div>\n<style scoped>\n    .dataframe tbody tr th:only-of-type {\n        vertical-align: middle;\n    }\n\n    .dataframe tbody tr th {\n        vertical-align: top;\n    }\n\n    .dataframe thead th {\n        text-align: right;\n    }\n</style>\n<table border=\"1\" class=\"dataframe\">\n  <thead>\n    <tr style=\"text-align: right;\">\n      <th></th>\n      <th>Total Players</th>\n    </tr>\n  </thead>\n  <tbody>\n    <tr>\n      <th>0</th>\n      <td>576</td>\n    </tr>\n  </tbody>\n</table>\n</div>"
     },
     "metadata": {},
     "execution_count": 2
    }
   ],
   "source": [
    "#Determine the number of players\n",
    "player = len(purchase_data[\"SN\"].unique())\n",
    "player_num = pd.DataFrame({\"Total Players\": [player]})\n",
    "player_num"
   ]
  },
  {
   "cell_type": "code",
   "execution_count": 3,
   "metadata": {
    "scrolled": true
   },
   "outputs": [
    {
     "output_type": "execute_result",
     "data": {
      "text/plain": "<pandas.io.formats.style.Styler at 0x2b57dcf8e88>",
      "text/html": "<style  type=\"text/css\" >\n</style><table id=\"T_d6b59e00_e2a2_11ea_baa9_74d02ba00d1a\" ><thead>    <tr>        <th class=\"blank level0\" ></th>        <th class=\"col_heading level0 col0\" >Number of Unique Items</th>        <th class=\"col_heading level0 col1\" >Average Price</th>        <th class=\"col_heading level0 col2\" >Number of Purchases</th>        <th class=\"col_heading level0 col3\" >Total Revenue</th>    </tr></thead><tbody>\n                <tr>\n                        <th id=\"T_d6b59e00_e2a2_11ea_baa9_74d02ba00d1alevel0_row0\" class=\"row_heading level0 row0\" >0</th>\n                        <td id=\"T_d6b59e00_e2a2_11ea_baa9_74d02ba00d1arow0_col0\" class=\"data row0 col0\" >179</td>\n                        <td id=\"T_d6b59e00_e2a2_11ea_baa9_74d02ba00d1arow0_col1\" class=\"data row0 col1\" >$3.05</td>\n                        <td id=\"T_d6b59e00_e2a2_11ea_baa9_74d02ba00d1arow0_col2\" class=\"data row0 col2\" >780</td>\n                        <td id=\"T_d6b59e00_e2a2_11ea_baa9_74d02ba00d1arow0_col3\" class=\"data row0 col3\" >$2,379.77</td>\n            </tr>\n    </tbody></table>"
     },
     "metadata": {},
     "execution_count": 3
    }
   ],
   "source": [
    "#Find Purchasing Data\n",
    "\n",
    "#Unique Items\n",
    "items=len(purchase_data[\"Item ID\"].unique())\n",
    "\n",
    "#Average Price of Items Purchased\n",
    "avg_price=purchase_data[\"Price\"].mean()\n",
    "\n",
    "#Number of Purchases\n",
    "num_purchase=len(purchase_data[\"Price\"])\n",
    "\n",
    "#Total Revenue from Purchases\n",
    "total_rev=purchase_data[\"Price\"].sum()\n",
    "\n",
    "#Create DataFrame\n",
    "calc_df=pd.DataFrame({\"Number of Unique Items\":[items],\n",
    "                      \"Average Price\": [avg_price],\n",
    "                      \"Number of Purchases\": [num_purchase],\n",
    "                      \"Total Revenue\": [total_rev]})\n",
    "#Change format\n",
    "calc_df = calc_df.style.format({\"Average Price\": \"${:,.2f}\",\n",
    "                                \"Total Revenue\": \"${:,.2f}\"})\n",
    "calc_df\n",
    "\n"
   ]
  },
  {
   "cell_type": "code",
   "execution_count": 4,
   "metadata": {},
   "outputs": [
    {
     "output_type": "execute_result",
     "data": {
      "text/plain": "<pandas.io.formats.style.Styler at 0x2b57e2671c8>",
      "text/html": "<style  type=\"text/css\" >\n</style><table id=\"T_d6bb1a64_e2a2_11ea_b8f7_74d02ba00d1a\" ><thead>    <tr>        <th class=\"blank level0\" ></th>        <th class=\"col_heading level0 col0\" >Total Count</th>        <th class=\"col_heading level0 col1\" >Percentage of Players</th>    </tr></thead><tbody>\n                <tr>\n                        <th id=\"T_d6bb1a64_e2a2_11ea_b8f7_74d02ba00d1alevel0_row0\" class=\"row_heading level0 row0\" >Male</th>\n                        <td id=\"T_d6bb1a64_e2a2_11ea_b8f7_74d02ba00d1arow0_col0\" class=\"data row0 col0\" >484</td>\n                        <td id=\"T_d6bb1a64_e2a2_11ea_b8f7_74d02ba00d1arow0_col1\" class=\"data row0 col1\" >84.03%</td>\n            </tr>\n            <tr>\n                        <th id=\"T_d6bb1a64_e2a2_11ea_b8f7_74d02ba00d1alevel0_row1\" class=\"row_heading level0 row1\" >Female</th>\n                        <td id=\"T_d6bb1a64_e2a2_11ea_b8f7_74d02ba00d1arow1_col0\" class=\"data row1 col0\" >81</td>\n                        <td id=\"T_d6bb1a64_e2a2_11ea_b8f7_74d02ba00d1arow1_col1\" class=\"data row1 col1\" >14.06%</td>\n            </tr>\n            <tr>\n                        <th id=\"T_d6bb1a64_e2a2_11ea_b8f7_74d02ba00d1alevel0_row2\" class=\"row_heading level0 row2\" >Other / Non-Disclosed</th>\n                        <td id=\"T_d6bb1a64_e2a2_11ea_b8f7_74d02ba00d1arow2_col0\" class=\"data row2 col0\" >11</td>\n                        <td id=\"T_d6bb1a64_e2a2_11ea_b8f7_74d02ba00d1arow2_col1\" class=\"data row2 col1\" >1.91%</td>\n            </tr>\n    </tbody></table>"
     },
     "metadata": {},
     "execution_count": 4
    }
   ],
   "source": [
    "#Determine Gender Demographics\n",
    "\n",
    "\n",
    "unique_player=pd.DataFrame({\"SN\":purchase_data[\"SN\"], \n",
    "                            \"Gender\":purchase_data[\"Gender\"],\n",
    "                            \"Age\": purchase_data[\"Age\"]})\n",
    "unique_player=unique_player.drop_duplicates().reset_index(drop=True)\n",
    "\n",
    "count=unique_player[\"Gender\"].value_counts()\n",
    "\n",
    "for i in range(len(count)):\n",
    "    x=pd.DataFrame({\"Total Count\": [count[i]],\n",
    "                    \"Percentage of Players\": [count[i]/player]},\n",
    "                    index=[count.index[i]])\n",
    "    if i==0:\n",
    "        gender_dem=x\n",
    "    else:\n",
    "        gender_dem = gender_dem.append(x)\n",
    "\n",
    "gender_dem = gender_dem.style.format({\"Percentage of Players\": \"{:.2%}\"})\n",
    "gender_dem"
   ]
  },
  {
   "cell_type": "code",
   "execution_count": 5,
   "metadata": {},
   "outputs": [],
   "source": [
    "#Purchasing Analysis by Gender\n",
    "\n",
    "#Caluclate Count and Total cost of purchases\n",
    "for i in range(len(unique_player[\"SN\"])):\n",
    "    total=0\n",
    "    pcount=0\n",
    "    for x in range(len(purchase_data[\"SN\"])):\n",
    "        if unique_player.SN[i]==purchase_data.SN[x]:\n",
    "            total=total+purchase_data.Price[x]\n",
    "            pcount=pcount+1\n",
    "    if i == 0:\n",
    "        count_df=pd.DataFrame({\"Purchase Count\": [pcount], \n",
    "                               \"Purchase Total\": [total]})\n",
    "    else:\n",
    "        temp_df=pd.DataFrame({\"Purchase Count\": [pcount], \n",
    "                              \"Purchase Total\": [total]},\n",
    "                              index = [i])\n",
    "        count_df=count_df.append(temp_df)\n",
    "unique_player=unique_player.join(count_df)\n"
   ]
  },
  {
   "cell_type": "code",
   "execution_count": 6,
   "metadata": {},
   "outputs": [
    {
     "output_type": "execute_result",
     "data": {
      "text/plain": "<pandas.io.formats.style.Styler at 0x2b57e310e88>",
      "text/html": "<style  type=\"text/css\" >\n</style><table id=\"T_ea24bce8_e2a2_11ea_915c_74d02ba00d1a\" ><thead>    <tr>        <th class=\"blank level0\" ></th>        <th class=\"col_heading level0 col0\" >Purchase Count</th>        <th class=\"col_heading level0 col1\" >Average Purchase Price</th>        <th class=\"col_heading level0 col2\" >Total Purchase Value</th>        <th class=\"col_heading level0 col3\" >Avg Total Purchase per Person</th>    </tr>    <tr>        <th class=\"index_name level0\" >Gender</th>        <th class=\"blank\" ></th>        <th class=\"blank\" ></th>        <th class=\"blank\" ></th>        <th class=\"blank\" ></th>    </tr></thead><tbody>\n                <tr>\n                        <th id=\"T_ea24bce8_e2a2_11ea_915c_74d02ba00d1alevel0_row0\" class=\"row_heading level0 row0\" >Female</th>\n                        <td id=\"T_ea24bce8_e2a2_11ea_915c_74d02ba00d1arow0_col0\" class=\"data row0 col0\" >113</td>\n                        <td id=\"T_ea24bce8_e2a2_11ea_915c_74d02ba00d1arow0_col1\" class=\"data row0 col1\" >$3.20</td>\n                        <td id=\"T_ea24bce8_e2a2_11ea_915c_74d02ba00d1arow0_col2\" class=\"data row0 col2\" >$361.94</td>\n                        <td id=\"T_ea24bce8_e2a2_11ea_915c_74d02ba00d1arow0_col3\" class=\"data row0 col3\" >$4.47</td>\n            </tr>\n            <tr>\n                        <th id=\"T_ea24bce8_e2a2_11ea_915c_74d02ba00d1alevel0_row1\" class=\"row_heading level0 row1\" >Male</th>\n                        <td id=\"T_ea24bce8_e2a2_11ea_915c_74d02ba00d1arow1_col0\" class=\"data row1 col0\" >652</td>\n                        <td id=\"T_ea24bce8_e2a2_11ea_915c_74d02ba00d1arow1_col1\" class=\"data row1 col1\" >$3.02</td>\n                        <td id=\"T_ea24bce8_e2a2_11ea_915c_74d02ba00d1arow1_col2\" class=\"data row1 col2\" >$1,967.64</td>\n                        <td id=\"T_ea24bce8_e2a2_11ea_915c_74d02ba00d1arow1_col3\" class=\"data row1 col3\" >$4.07</td>\n            </tr>\n            <tr>\n                        <th id=\"T_ea24bce8_e2a2_11ea_915c_74d02ba00d1alevel0_row2\" class=\"row_heading level0 row2\" >Other / Non-Disclosed</th>\n                        <td id=\"T_ea24bce8_e2a2_11ea_915c_74d02ba00d1arow2_col0\" class=\"data row2 col0\" >15</td>\n                        <td id=\"T_ea24bce8_e2a2_11ea_915c_74d02ba00d1arow2_col1\" class=\"data row2 col1\" >$3.35</td>\n                        <td id=\"T_ea24bce8_e2a2_11ea_915c_74d02ba00d1arow2_col2\" class=\"data row2 col2\" >$50.19</td>\n                        <td id=\"T_ea24bce8_e2a2_11ea_915c_74d02ba00d1arow2_col3\" class=\"data row2 col3\" >$4.56</td>\n            </tr>\n    </tbody></table>"
     },
     "metadata": {},
     "execution_count": 6
    }
   ],
   "source": [
    "#Separate counts and totals by gender\n",
    "for i in range(len(count)):\n",
    "    gender_count=0\n",
    "    total_purchase=0\n",
    "    gender_num=0\n",
    "    for x in range(len(unique_player[\"SN\"])):\n",
    "        if count.index[i]==unique_player.Gender[x]:\n",
    "            gender_count=gender_count + 1\n",
    "            gender_num=gender_num + unique_player[\"Purchase Count\"][x]\n",
    "            total_purchase = total_purchase + unique_player[\"Purchase Total\"][x]\n",
    "\n",
    "\n",
    "    y=pd.DataFrame({\"Purchase Count\": [gender_num],\n",
    "                    \"Average Purchase Price\": [total_purchase/gender_num],\n",
    "                    \"Total Purchase Value\": [total_purchase],\n",
    "                    \"Avg Total Purchase per Person\": [total_purchase/gender_count]},\n",
    "                    index=[count.index[i]])\n",
    "    if i==0:\n",
    "        gender_purchase=y\n",
    "    else:\n",
    "        gender_purchase=gender_purchase.append(y)\n",
    "\n",
    "#Output formatting\n",
    "gender_purchase=gender_purchase.sort_index()\n",
    "gender_purchase.index.name = \"Gender\"\n",
    "gender_purchase=gender_purchase.style.format({\"Average Purchase Price\":\"${:,.2f}\",\n",
    "                                              \"Total Purchase Value\": \"${:,.2f}\",\n",
    "                                              \"Avg Total Purchase per Person\": \"${:,.2f}\"})\n",
    "gender_purchase\n"
   ]
  },
  {
   "cell_type": "code",
   "execution_count": 7,
   "metadata": {},
   "outputs": [],
   "source": [
    "#Age Demographics\n",
    "\n",
    "#Labelling bins\n",
    "bins_cuts=[0,9,14,19,24,29,34,39,1000]\n",
    "bin_labels=['<10','10-14','15-19','20-24','25-29','30-34','35-39','40+']\n",
    "\n",
    "unique_player['Age-Binned']=pd.cut(unique_player['Age'], bins=bins_cuts, labels=bin_labels)\n",
    "\n",
    "bins=unique_player[\"Age-Binned\"].value_counts()\n",
    "bins=bins.sort_index()\n",
    "\n",
    "#Calculate numbers per bin\n",
    "for x in range(len(bins)):\n",
    "    z=pd.DataFrame({\"Total Count\": [bins[x]], \"Percentage of Players\": [bins[x]/player]},\n",
    "                    index=[bin_labels[x]])\n",
    "    if x==0:\n",
    "        Ages=z\n",
    "    else:\n",
    "        Ages=Ages.append(z)\n",
    "\n",
    "Ages=Ages.style.format({\"Percentage of Players\": \"{:.2%}\"})\n",
    "\n"
   ]
  },
  {
   "cell_type": "code",
   "execution_count": 8,
   "metadata": {},
   "outputs": [
    {
     "output_type": "execute_result",
     "data": {
      "text/plain": "<pandas.io.formats.style.Styler at 0x2b57e2c0d88>",
      "text/html": "<style  type=\"text/css\" >\n</style><table id=\"T_ea4d7c88_e2a2_11ea_9f27_74d02ba00d1a\" ><thead>    <tr>        <th class=\"blank level0\" ></th>        <th class=\"col_heading level0 col0\" >Purchase Count</th>        <th class=\"col_heading level0 col1\" >Average Purchase Price</th>        <th class=\"col_heading level0 col2\" >Total Purchase Value</th>        <th class=\"col_heading level0 col3\" >Avg Total Purchase per Person</th>    </tr>    <tr>        <th class=\"index_name level0\" >Age Ranges</th>        <th class=\"blank\" ></th>        <th class=\"blank\" ></th>        <th class=\"blank\" ></th>        <th class=\"blank\" ></th>    </tr></thead><tbody>\n                <tr>\n                        <th id=\"T_ea4d7c88_e2a2_11ea_9f27_74d02ba00d1alevel0_row0\" class=\"row_heading level0 row0\" ><10</th>\n                        <td id=\"T_ea4d7c88_e2a2_11ea_9f27_74d02ba00d1arow0_col0\" class=\"data row0 col0\" >23</td>\n                        <td id=\"T_ea4d7c88_e2a2_11ea_9f27_74d02ba00d1arow0_col1\" class=\"data row0 col1\" >$3.35</td>\n                        <td id=\"T_ea4d7c88_e2a2_11ea_9f27_74d02ba00d1arow0_col2\" class=\"data row0 col2\" >$77.13</td>\n                        <td id=\"T_ea4d7c88_e2a2_11ea_9f27_74d02ba00d1arow0_col3\" class=\"data row0 col3\" >$4.54</td>\n            </tr>\n            <tr>\n                        <th id=\"T_ea4d7c88_e2a2_11ea_9f27_74d02ba00d1alevel0_row1\" class=\"row_heading level0 row1\" >10-14</th>\n                        <td id=\"T_ea4d7c88_e2a2_11ea_9f27_74d02ba00d1arow1_col0\" class=\"data row1 col0\" >28</td>\n                        <td id=\"T_ea4d7c88_e2a2_11ea_9f27_74d02ba00d1arow1_col1\" class=\"data row1 col1\" >$2.96</td>\n                        <td id=\"T_ea4d7c88_e2a2_11ea_9f27_74d02ba00d1arow1_col2\" class=\"data row1 col2\" >$82.78</td>\n                        <td id=\"T_ea4d7c88_e2a2_11ea_9f27_74d02ba00d1arow1_col3\" class=\"data row1 col3\" >$3.76</td>\n            </tr>\n            <tr>\n                        <th id=\"T_ea4d7c88_e2a2_11ea_9f27_74d02ba00d1alevel0_row2\" class=\"row_heading level0 row2\" >15-19</th>\n                        <td id=\"T_ea4d7c88_e2a2_11ea_9f27_74d02ba00d1arow2_col0\" class=\"data row2 col0\" >136</td>\n                        <td id=\"T_ea4d7c88_e2a2_11ea_9f27_74d02ba00d1arow2_col1\" class=\"data row2 col1\" >$3.04</td>\n                        <td id=\"T_ea4d7c88_e2a2_11ea_9f27_74d02ba00d1arow2_col2\" class=\"data row2 col2\" >$412.89</td>\n                        <td id=\"T_ea4d7c88_e2a2_11ea_9f27_74d02ba00d1arow2_col3\" class=\"data row2 col3\" >$3.86</td>\n            </tr>\n            <tr>\n                        <th id=\"T_ea4d7c88_e2a2_11ea_9f27_74d02ba00d1alevel0_row3\" class=\"row_heading level0 row3\" >20-24</th>\n                        <td id=\"T_ea4d7c88_e2a2_11ea_9f27_74d02ba00d1arow3_col0\" class=\"data row3 col0\" >365</td>\n                        <td id=\"T_ea4d7c88_e2a2_11ea_9f27_74d02ba00d1arow3_col1\" class=\"data row3 col1\" >$3.05</td>\n                        <td id=\"T_ea4d7c88_e2a2_11ea_9f27_74d02ba00d1arow3_col2\" class=\"data row3 col2\" >$1,114.06</td>\n                        <td id=\"T_ea4d7c88_e2a2_11ea_9f27_74d02ba00d1arow3_col3\" class=\"data row3 col3\" >$4.32</td>\n            </tr>\n            <tr>\n                        <th id=\"T_ea4d7c88_e2a2_11ea_9f27_74d02ba00d1alevel0_row4\" class=\"row_heading level0 row4\" >25-29</th>\n                        <td id=\"T_ea4d7c88_e2a2_11ea_9f27_74d02ba00d1arow4_col0\" class=\"data row4 col0\" >101</td>\n                        <td id=\"T_ea4d7c88_e2a2_11ea_9f27_74d02ba00d1arow4_col1\" class=\"data row4 col1\" >$2.90</td>\n                        <td id=\"T_ea4d7c88_e2a2_11ea_9f27_74d02ba00d1arow4_col2\" class=\"data row4 col2\" >$293.00</td>\n                        <td id=\"T_ea4d7c88_e2a2_11ea_9f27_74d02ba00d1arow4_col3\" class=\"data row4 col3\" >$3.81</td>\n            </tr>\n            <tr>\n                        <th id=\"T_ea4d7c88_e2a2_11ea_9f27_74d02ba00d1alevel0_row5\" class=\"row_heading level0 row5\" >30-34</th>\n                        <td id=\"T_ea4d7c88_e2a2_11ea_9f27_74d02ba00d1arow5_col0\" class=\"data row5 col0\" >73</td>\n                        <td id=\"T_ea4d7c88_e2a2_11ea_9f27_74d02ba00d1arow5_col1\" class=\"data row5 col1\" >$2.93</td>\n                        <td id=\"T_ea4d7c88_e2a2_11ea_9f27_74d02ba00d1arow5_col2\" class=\"data row5 col2\" >$214.00</td>\n                        <td id=\"T_ea4d7c88_e2a2_11ea_9f27_74d02ba00d1arow5_col3\" class=\"data row5 col3\" >$4.12</td>\n            </tr>\n            <tr>\n                        <th id=\"T_ea4d7c88_e2a2_11ea_9f27_74d02ba00d1alevel0_row6\" class=\"row_heading level0 row6\" >35-39</th>\n                        <td id=\"T_ea4d7c88_e2a2_11ea_9f27_74d02ba00d1arow6_col0\" class=\"data row6 col0\" >41</td>\n                        <td id=\"T_ea4d7c88_e2a2_11ea_9f27_74d02ba00d1arow6_col1\" class=\"data row6 col1\" >$3.60</td>\n                        <td id=\"T_ea4d7c88_e2a2_11ea_9f27_74d02ba00d1arow6_col2\" class=\"data row6 col2\" >$147.67</td>\n                        <td id=\"T_ea4d7c88_e2a2_11ea_9f27_74d02ba00d1arow6_col3\" class=\"data row6 col3\" >$4.76</td>\n            </tr>\n            <tr>\n                        <th id=\"T_ea4d7c88_e2a2_11ea_9f27_74d02ba00d1alevel0_row7\" class=\"row_heading level0 row7\" >40+</th>\n                        <td id=\"T_ea4d7c88_e2a2_11ea_9f27_74d02ba00d1arow7_col0\" class=\"data row7 col0\" >13</td>\n                        <td id=\"T_ea4d7c88_e2a2_11ea_9f27_74d02ba00d1arow7_col1\" class=\"data row7 col1\" >$2.94</td>\n                        <td id=\"T_ea4d7c88_e2a2_11ea_9f27_74d02ba00d1arow7_col2\" class=\"data row7 col2\" >$38.24</td>\n                        <td id=\"T_ea4d7c88_e2a2_11ea_9f27_74d02ba00d1arow7_col3\" class=\"data row7 col3\" >$3.19</td>\n            </tr>\n    </tbody></table>"
     },
     "metadata": {},
     "execution_count": 8
    }
   ],
   "source": [
    "#Purchasing Analysis by Age\n",
    "\n",
    "q=0\n",
    "for i in bin_labels:\n",
    "    pur_count=0\n",
    "    tot_val=0\n",
    "    person_count = 0\n",
    "    for x in range(len(unique_player[\"SN\"])):\n",
    "        if i==unique_player[\"Age-Binned\"][x]:\n",
    "            pur_count=pur_count + unique_player[\"Purchase Count\"][x]\n",
    "            person_count = person_count + 1\n",
    "            tot_val=tot_val + unique_player[\"Purchase Total\"][x]\n",
    "    \n",
    "    a=pd.DataFrame({\"Purchase Count\": [pur_count],\n",
    "                    \"Average Purchase Price\": [tot_val/pur_count],\n",
    "                    \"Total Purchase Value\": [tot_val],\n",
    "                    \"Avg Total Purchase per Person\": [tot_val/person_count]},index=[i])\n",
    "    if q==0:\n",
    "        Purchase_age=a\n",
    "        q=1\n",
    "    else:\n",
    "        Purchase_age=Purchase_age.append(a)\n",
    "\n",
    "\n",
    "Purchase_age.index.name=\"Age Ranges\"\n",
    "Purchase_age=Purchase_age.style.format({\"Average Purchase Price\":\"${:,.2f}\",\n",
    "                                        \"Total Purchase Value\": \"${:,.2f}\",\n",
    "                                        \"Avg Total Purchase per Person\": \"${:,.2f}\"})\n",
    "Purchase_age"
   ]
  },
  {
   "cell_type": "code",
   "execution_count": 52,
   "metadata": {},
   "outputs": [
    {
     "output_type": "execute_result",
     "data": {
      "text/plain": "<pandas.io.formats.style.Styler at 0x2b501390288>",
      "text/html": "<style  type=\"text/css\" >\n</style><table id=\"T_9fc198d8_e341_11ea_b623_74d02ba00d1a\" ><thead>    <tr>        <th class=\"blank level0\" ></th>        <th class=\"col_heading level0 col0\" >Purchase Count</th>        <th class=\"col_heading level0 col1\" >Average Purchase Price</th>        <th class=\"col_heading level0 col2\" >Total Purchase Value</th>    </tr>    <tr>        <th class=\"index_name level0\" >SN</th>        <th class=\"blank\" ></th>        <th class=\"blank\" ></th>        <th class=\"blank\" ></th>    </tr></thead><tbody>\n                <tr>\n                        <th id=\"T_9fc198d8_e341_11ea_b623_74d02ba00d1alevel0_row0\" class=\"row_heading level0 row0\" >Lisosia93</th>\n                        <td id=\"T_9fc198d8_e341_11ea_b623_74d02ba00d1arow0_col0\" class=\"data row0 col0\" >5</td>\n                        <td id=\"T_9fc198d8_e341_11ea_b623_74d02ba00d1arow0_col1\" class=\"data row0 col1\" >$3.79</td>\n                        <td id=\"T_9fc198d8_e341_11ea_b623_74d02ba00d1arow0_col2\" class=\"data row0 col2\" >$18.96</td>\n            </tr>\n            <tr>\n                        <th id=\"T_9fc198d8_e341_11ea_b623_74d02ba00d1alevel0_row1\" class=\"row_heading level0 row1\" >Idastidru52</th>\n                        <td id=\"T_9fc198d8_e341_11ea_b623_74d02ba00d1arow1_col0\" class=\"data row1 col0\" >4</td>\n                        <td id=\"T_9fc198d8_e341_11ea_b623_74d02ba00d1arow1_col1\" class=\"data row1 col1\" >$3.86</td>\n                        <td id=\"T_9fc198d8_e341_11ea_b623_74d02ba00d1arow1_col2\" class=\"data row1 col2\" >$15.45</td>\n            </tr>\n            <tr>\n                        <th id=\"T_9fc198d8_e341_11ea_b623_74d02ba00d1alevel0_row2\" class=\"row_heading level0 row2\" >Chamjask73</th>\n                        <td id=\"T_9fc198d8_e341_11ea_b623_74d02ba00d1arow2_col0\" class=\"data row2 col0\" >3</td>\n                        <td id=\"T_9fc198d8_e341_11ea_b623_74d02ba00d1arow2_col1\" class=\"data row2 col1\" >$4.61</td>\n                        <td id=\"T_9fc198d8_e341_11ea_b623_74d02ba00d1arow2_col2\" class=\"data row2 col2\" >$13.83</td>\n            </tr>\n            <tr>\n                        <th id=\"T_9fc198d8_e341_11ea_b623_74d02ba00d1alevel0_row3\" class=\"row_heading level0 row3\" >Iral74</th>\n                        <td id=\"T_9fc198d8_e341_11ea_b623_74d02ba00d1arow3_col0\" class=\"data row3 col0\" >4</td>\n                        <td id=\"T_9fc198d8_e341_11ea_b623_74d02ba00d1arow3_col1\" class=\"data row3 col1\" >$3.40</td>\n                        <td id=\"T_9fc198d8_e341_11ea_b623_74d02ba00d1arow3_col2\" class=\"data row3 col2\" >$13.62</td>\n            </tr>\n            <tr>\n                        <th id=\"T_9fc198d8_e341_11ea_b623_74d02ba00d1alevel0_row4\" class=\"row_heading level0 row4\" >Iskadarya95</th>\n                        <td id=\"T_9fc198d8_e341_11ea_b623_74d02ba00d1arow4_col0\" class=\"data row4 col0\" >3</td>\n                        <td id=\"T_9fc198d8_e341_11ea_b623_74d02ba00d1arow4_col1\" class=\"data row4 col1\" >$4.37</td>\n                        <td id=\"T_9fc198d8_e341_11ea_b623_74d02ba00d1arow4_col2\" class=\"data row4 col2\" >$13.10</td>\n            </tr>\n    </tbody></table>"
     },
     "metadata": {},
     "execution_count": 52
    }
   ],
   "source": [
    "#Top Spenders List\n",
    "\n",
    "#Calculate values\n",
    "unique_player[\"Average Purchase Price\"]=unique_player[\"Purchase Total\"]/unique_player[\"Purchase Count\"]\n",
    "top_spender=pd.DataFrame({\"Purchase Count\": unique_player[\"Purchase Count\"],\n",
    "                          \"Average Purchase Price\": unique_player[\"Average Purchase Price\"],\n",
    "                          \"Total Purchase Value\": unique_player[\"Purchase Total\"],\n",
    "                          \"SN\": unique_player[\"SN\"]})\n",
    "top_spender=top_spender.set_index(\"SN\")\n",
    "top_spender=top_spender.sort_values(\"Total Purchase Value\", ascending=False)\n",
    "top_spender=top_spender.iloc[0:5,0:4]\n",
    "top_spender=top_spender.style.format({\"Average Purchase Price\":\"${:,.2f}\",\n",
    "                                        \"Total Purchase Value\": \"${:,.2f}\"})\n",
    "top_spender\n"
   ]
  },
  {
   "cell_type": "code",
   "execution_count": 51,
   "metadata": {},
   "outputs": [
    {
     "output_type": "execute_result",
     "data": {
      "text/plain": "<pandas.io.formats.style.Styler at 0x2b50149d948>",
      "text/html": "<style  type=\"text/css\" >\n</style><table id=\"T_5eeacd6c_e341_11ea_931f_74d02ba00d1a\" ><thead>    <tr>        <th class=\"blank\" ></th>        <th class=\"blank level0\" ></th>        <th class=\"col_heading level0 col0\" >Purchase Count</th>        <th class=\"col_heading level0 col1\" >Item Price</th>        <th class=\"col_heading level0 col2\" >Total Purchase Value</th>    </tr>    <tr>        <th class=\"index_name level0\" >Item ID</th>        <th class=\"index_name level1\" >Item Name</th>        <th class=\"blank\" ></th>        <th class=\"blank\" ></th>        <th class=\"blank\" ></th>    </tr></thead><tbody>\n                <tr>\n                        <th id=\"T_5eeacd6c_e341_11ea_931f_74d02ba00d1alevel0_row0\" class=\"row_heading level0 row0\" >92</th>\n                        <th id=\"T_5eeacd6c_e341_11ea_931f_74d02ba00d1alevel1_row0\" class=\"row_heading level1 row0\" >Final Critic</th>\n                        <td id=\"T_5eeacd6c_e341_11ea_931f_74d02ba00d1arow0_col0\" class=\"data row0 col0\" >13</td>\n                        <td id=\"T_5eeacd6c_e341_11ea_931f_74d02ba00d1arow0_col1\" class=\"data row0 col1\" >$4.61</td>\n                        <td id=\"T_5eeacd6c_e341_11ea_931f_74d02ba00d1arow0_col2\" class=\"data row0 col2\" >$59.99</td>\n            </tr>\n            <tr>\n                        <th id=\"T_5eeacd6c_e341_11ea_931f_74d02ba00d1alevel0_row1\" class=\"row_heading level0 row1\" >178</th>\n                        <th id=\"T_5eeacd6c_e341_11ea_931f_74d02ba00d1alevel1_row1\" class=\"row_heading level1 row1\" >Oathbreaker, Last Hope of the Breaking Storm</th>\n                        <td id=\"T_5eeacd6c_e341_11ea_931f_74d02ba00d1arow1_col0\" class=\"data row1 col0\" >12</td>\n                        <td id=\"T_5eeacd6c_e341_11ea_931f_74d02ba00d1arow1_col1\" class=\"data row1 col1\" >$4.23</td>\n                        <td id=\"T_5eeacd6c_e341_11ea_931f_74d02ba00d1arow1_col2\" class=\"data row1 col2\" >$50.76</td>\n            </tr>\n            <tr>\n                        <th id=\"T_5eeacd6c_e341_11ea_931f_74d02ba00d1alevel0_row2\" class=\"row_heading level0 row2\" >145</th>\n                        <th id=\"T_5eeacd6c_e341_11ea_931f_74d02ba00d1alevel1_row2\" class=\"row_heading level1 row2\" >Fiery Glass Crusader</th>\n                        <td id=\"T_5eeacd6c_e341_11ea_931f_74d02ba00d1arow2_col0\" class=\"data row2 col0\" >9</td>\n                        <td id=\"T_5eeacd6c_e341_11ea_931f_74d02ba00d1arow2_col1\" class=\"data row2 col1\" >$4.58</td>\n                        <td id=\"T_5eeacd6c_e341_11ea_931f_74d02ba00d1arow2_col2\" class=\"data row2 col2\" >$41.22</td>\n            </tr>\n            <tr>\n                        <th id=\"T_5eeacd6c_e341_11ea_931f_74d02ba00d1alevel0_row3\" class=\"row_heading level0 row3\" >132</th>\n                        <th id=\"T_5eeacd6c_e341_11ea_931f_74d02ba00d1alevel1_row3\" class=\"row_heading level1 row3\" >Persuasion</th>\n                        <td id=\"T_5eeacd6c_e341_11ea_931f_74d02ba00d1arow3_col0\" class=\"data row3 col0\" >9</td>\n                        <td id=\"T_5eeacd6c_e341_11ea_931f_74d02ba00d1arow3_col1\" class=\"data row3 col1\" >$3.22</td>\n                        <td id=\"T_5eeacd6c_e341_11ea_931f_74d02ba00d1arow3_col2\" class=\"data row3 col2\" >$28.99</td>\n            </tr>\n            <tr>\n                        <th id=\"T_5eeacd6c_e341_11ea_931f_74d02ba00d1alevel0_row4\" class=\"row_heading level0 row4\" >108</th>\n                        <th id=\"T_5eeacd6c_e341_11ea_931f_74d02ba00d1alevel1_row4\" class=\"row_heading level1 row4\" >Extraction, Quickblade Of Trembling Hands</th>\n                        <td id=\"T_5eeacd6c_e341_11ea_931f_74d02ba00d1arow4_col0\" class=\"data row4 col0\" >9</td>\n                        <td id=\"T_5eeacd6c_e341_11ea_931f_74d02ba00d1arow4_col1\" class=\"data row4 col1\" >$3.53</td>\n                        <td id=\"T_5eeacd6c_e341_11ea_931f_74d02ba00d1arow4_col2\" class=\"data row4 col2\" >$31.77</td>\n            </tr>\n    </tbody></table>"
     },
     "metadata": {},
     "execution_count": 51
    }
   ],
   "source": [
    "#Most popular Items\n",
    "\n",
    "item=pd.DataFrame({\"Item Name\": purchase_data[\"Item Name\"],\n",
    "                          \"Item ID\": purchase_data[\"Item ID\"]})\n",
    "item=item.drop_duplicates().reset_index(drop=True)\n",
    "\n",
    "del unique_item_display\n",
    "del unique_item\n",
    "q=0\n",
    "for i in range(len(item[\"Item Name\"])):\n",
    "    itotal=0\n",
    "    icount=0\n",
    "    for x in range(len(purchase_data[\"Item Name\"])):\n",
    "\n",
    "        if item[\"Item Name\"][i]==purchase_data[\"Item Name\"][x]:\n",
    "            itotal=itotal+purchase_data[\"Price\"][x]\n",
    "            icount=icount+1\n",
    "    z=pd.DataFrame({\"Purchase Count\": [icount],\n",
    "                    \"Item Price\": [itotal/icount],\n",
    "                    \"Total Purchase Value\": [itotal]},\n",
    "                    index=[i])\n",
    "    if q==0:\n",
    "        q=1\n",
    "        item_prices=z\n",
    "    else:\n",
    "        item_prices=item_prices.append(z)\n",
    "unique_item=item.join(item_prices)\n",
    "unique_item=unique_item.set_index([\"Item ID\",\"Item Name\"])\n",
    "unique_item=unique_item.sort_values([\"Purchase Count\",\"Item ID\"], ascending=False)\n",
    "unique_item_display=unique_item.iloc[0:5,0:4]\n",
    "unique_item_display=unique_item_display.style.format({\"Item Price\":\"${:,.2f}\",\n",
    "                                              \"Total Purchase Value\": \"${:,.2f}\"})\n",
    "\n",
    "unique_item_display\n"
   ]
  },
  {
   "cell_type": "code",
   "execution_count": 53,
   "metadata": {
    "scrolled": true
   },
   "outputs": [
    {
     "output_type": "execute_result",
     "data": {
      "text/plain": "<pandas.io.formats.style.Styler at 0x2b5013d4c88>",
      "text/html": "<style  type=\"text/css\" >\n</style><table id=\"T_0ad9047a_e342_11ea_b296_74d02ba00d1a\" ><thead>    <tr>        <th class=\"blank\" ></th>        <th class=\"blank level0\" ></th>        <th class=\"col_heading level0 col0\" >Purchase Count</th>        <th class=\"col_heading level0 col1\" >Item Price</th>        <th class=\"col_heading level0 col2\" >Total Purchase Value</th>    </tr>    <tr>        <th class=\"index_name level0\" >Item ID</th>        <th class=\"index_name level1\" >Item Name</th>        <th class=\"blank\" ></th>        <th class=\"blank\" ></th>        <th class=\"blank\" ></th>    </tr></thead><tbody>\n                <tr>\n                        <th id=\"T_0ad9047a_e342_11ea_b296_74d02ba00d1alevel0_row0\" class=\"row_heading level0 row0\" >92</th>\n                        <th id=\"T_0ad9047a_e342_11ea_b296_74d02ba00d1alevel1_row0\" class=\"row_heading level1 row0\" >Final Critic</th>\n                        <td id=\"T_0ad9047a_e342_11ea_b296_74d02ba00d1arow0_col0\" class=\"data row0 col0\" >13</td>\n                        <td id=\"T_0ad9047a_e342_11ea_b296_74d02ba00d1arow0_col1\" class=\"data row0 col1\" >$4.61</td>\n                        <td id=\"T_0ad9047a_e342_11ea_b296_74d02ba00d1arow0_col2\" class=\"data row0 col2\" >$59.99</td>\n            </tr>\n            <tr>\n                        <th id=\"T_0ad9047a_e342_11ea_b296_74d02ba00d1alevel0_row1\" class=\"row_heading level0 row1\" >178</th>\n                        <th id=\"T_0ad9047a_e342_11ea_b296_74d02ba00d1alevel1_row1\" class=\"row_heading level1 row1\" >Oathbreaker, Last Hope of the Breaking Storm</th>\n                        <td id=\"T_0ad9047a_e342_11ea_b296_74d02ba00d1arow1_col0\" class=\"data row1 col0\" >12</td>\n                        <td id=\"T_0ad9047a_e342_11ea_b296_74d02ba00d1arow1_col1\" class=\"data row1 col1\" >$4.23</td>\n                        <td id=\"T_0ad9047a_e342_11ea_b296_74d02ba00d1arow1_col2\" class=\"data row1 col2\" >$50.76</td>\n            </tr>\n            <tr>\n                        <th id=\"T_0ad9047a_e342_11ea_b296_74d02ba00d1alevel0_row2\" class=\"row_heading level0 row2\" >82</th>\n                        <th id=\"T_0ad9047a_e342_11ea_b296_74d02ba00d1alevel1_row2\" class=\"row_heading level1 row2\" >Nirvana</th>\n                        <td id=\"T_0ad9047a_e342_11ea_b296_74d02ba00d1arow2_col0\" class=\"data row2 col0\" >9</td>\n                        <td id=\"T_0ad9047a_e342_11ea_b296_74d02ba00d1arow2_col1\" class=\"data row2 col1\" >$4.90</td>\n                        <td id=\"T_0ad9047a_e342_11ea_b296_74d02ba00d1arow2_col2\" class=\"data row2 col2\" >$44.10</td>\n            </tr>\n            <tr>\n                        <th id=\"T_0ad9047a_e342_11ea_b296_74d02ba00d1alevel0_row3\" class=\"row_heading level0 row3\" >145</th>\n                        <th id=\"T_0ad9047a_e342_11ea_b296_74d02ba00d1alevel1_row3\" class=\"row_heading level1 row3\" >Fiery Glass Crusader</th>\n                        <td id=\"T_0ad9047a_e342_11ea_b296_74d02ba00d1arow3_col0\" class=\"data row3 col0\" >9</td>\n                        <td id=\"T_0ad9047a_e342_11ea_b296_74d02ba00d1arow3_col1\" class=\"data row3 col1\" >$4.58</td>\n                        <td id=\"T_0ad9047a_e342_11ea_b296_74d02ba00d1arow3_col2\" class=\"data row3 col2\" >$41.22</td>\n            </tr>\n            <tr>\n                        <th id=\"T_0ad9047a_e342_11ea_b296_74d02ba00d1alevel0_row4\" class=\"row_heading level0 row4\" >103</th>\n                        <th id=\"T_0ad9047a_e342_11ea_b296_74d02ba00d1alevel1_row4\" class=\"row_heading level1 row4\" >Singed Scalpel</th>\n                        <td id=\"T_0ad9047a_e342_11ea_b296_74d02ba00d1arow4_col0\" class=\"data row4 col0\" >8</td>\n                        <td id=\"T_0ad9047a_e342_11ea_b296_74d02ba00d1arow4_col1\" class=\"data row4 col1\" >$4.35</td>\n                        <td id=\"T_0ad9047a_e342_11ea_b296_74d02ba00d1arow4_col2\" class=\"data row4 col2\" >$34.80</td>\n            </tr>\n    </tbody></table>"
     },
     "metadata": {},
     "execution_count": 53
    }
   ],
   "source": [
    "#Most Profitable Items\n",
    "\n",
    "#Re-order by purchase value\n",
    "unique_item=unique_item.sort_values([\"Total Purchase Value\"], ascending=False)\n",
    "#Truncate for top 5\n",
    "unique_item_profit=unique_item.iloc[0:5,0:4]\n",
    "#Change format\n",
    "unique_item_profit=unique_item_profit.style.format({\"Item Price\":\"${:,.2f}\",\n",
    "                                              \"Total Purchase Value\": \"${:,.2f}\"})\n",
    "unique_item_profit"
   ]
  },
  {
   "cell_type": "code",
   "execution_count": null,
   "metadata": {},
   "outputs": [],
   "source": []
  }
 ],
 "metadata": {
  "anaconda-cloud": {},
  "kernel_info": {
   "name": "python3"
  },
  "kernelspec": {
   "display_name": "Python 3",
   "language": "python",
   "name": "python3"
  },
  "language_info": {
   "codemirror_mode": {
    "name": "ipython",
    "version": 3
   },
   "file_extension": ".py",
   "mimetype": "text/x-python",
   "name": "python",
   "nbconvert_exporter": "python",
   "pygments_lexer": "ipython3",
   "version": "3.7.7-final"
  },
  "latex_envs": {
   "LaTeX_envs_menu_present": true,
   "autoclose": false,
   "autocomplete": true,
   "bibliofile": "biblio.bib",
   "cite_by": "apalike",
   "current_citInitial": 1,
   "eqLabelWithNumbers": true,
   "eqNumInitial": 1,
   "hotkeys": {
    "equation": "Ctrl-E",
    "itemize": "Ctrl-I"
   },
   "labels_anchors": false,
   "latex_user_defs": false,
   "report_style_numbering": false,
   "user_envs_cfg": false
  },
  "nteract": {
   "version": "0.2.0"
  }
 },
 "nbformat": 4,
 "nbformat_minor": 2
}