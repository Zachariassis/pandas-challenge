{
 "cells": [
  {
   "cell_type": "code",
   "execution_count": 1,
   "metadata": {},
   "outputs": [
    {
     "output_type": "execute_result",
     "data": {
      "text/plain": "   Purchase ID             SN  Age Gender  Item ID  \\\n0            0        Lisim78   20   Male      108   \n1            1    Lisovynya38   40   Male      143   \n2            2     Ithergue48   24   Male       92   \n3            3  Chamassasya86   24   Male      100   \n4            4      Iskosia90   23   Male      131   \n\n                                   Item Name  Price  \n0  Extraction, Quickblade Of Trembling Hands   3.53  \n1                          Frenzied Scimitar   1.56  \n2                               Final Critic   4.88  \n3                                Blindscythe   3.27  \n4                                       Fury   1.44  ",
      "text/html": "<div>\n<style scoped>\n    .dataframe tbody tr th:only-of-type {\n        vertical-align: middle;\n    }\n\n    .dataframe tbody tr th {\n        vertical-align: top;\n    }\n\n    .dataframe thead th {\n        text-align: right;\n    }\n</style>\n<table border=\"1\" class=\"dataframe\">\n  <thead>\n    <tr style=\"text-align: right;\">\n      <th></th>\n      <th>Purchase ID</th>\n      <th>SN</th>\n      <th>Age</th>\n      <th>Gender</th>\n      <th>Item ID</th>\n      <th>Item Name</th>\n      <th>Price</th>\n    </tr>\n  </thead>\n  <tbody>\n    <tr>\n      <th>0</th>\n      <td>0</td>\n      <td>Lisim78</td>\n      <td>20</td>\n      <td>Male</td>\n      <td>108</td>\n      <td>Extraction, Quickblade Of Trembling Hands</td>\n      <td>3.53</td>\n    </tr>\n    <tr>\n      <th>1</th>\n      <td>1</td>\n      <td>Lisovynya38</td>\n      <td>40</td>\n      <td>Male</td>\n      <td>143</td>\n      <td>Frenzied Scimitar</td>\n      <td>1.56</td>\n    </tr>\n    <tr>\n      <th>2</th>\n      <td>2</td>\n      <td>Ithergue48</td>\n      <td>24</td>\n      <td>Male</td>\n      <td>92</td>\n      <td>Final Critic</td>\n      <td>4.88</td>\n    </tr>\n    <tr>\n      <th>3</th>\n      <td>3</td>\n      <td>Chamassasya86</td>\n      <td>24</td>\n      <td>Male</td>\n      <td>100</td>\n      <td>Blindscythe</td>\n      <td>3.27</td>\n    </tr>\n    <tr>\n      <th>4</th>\n      <td>4</td>\n      <td>Iskosia90</td>\n      <td>23</td>\n      <td>Male</td>\n      <td>131</td>\n      <td>Fury</td>\n      <td>1.44</td>\n    </tr>\n  </tbody>\n</table>\n</div>"
     },
     "metadata": {},
     "execution_count": 1
    }
   ],
   "source": [
    "# Dependencies and Setup\n",
    "import pandas as pd\n",
    "\n",
    "# File to Load (Remember to Change These)\n",
    "file_to_load = \"Resources/purchase_data.csv\"\n",
    "\n",
    "# Read Purchasing File and store into Pandas data frame\n",
    "purchase_data = pd.read_csv(file_to_load)\n",
    "purchase_data.head()"
   ]
  },
  {
   "cell_type": "code",
   "execution_count": 2,
   "metadata": {},
   "outputs": [
    {
     "output_type": "execute_result",
     "data": {
      "text/plain": "   Total Players\n0            576",
      "text/html": "<div>\n<style scoped>\n    .dataframe tbody tr th:only-of-type {\n        vertical-align: middle;\n    }\n\n    .dataframe tbody tr th {\n        vertical-align: top;\n    }\n\n    .dataframe thead th {\n        text-align: right;\n    }\n</style>\n<table border=\"1\" class=\"dataframe\">\n  <thead>\n    <tr style=\"text-align: right;\">\n      <th></th>\n      <th>Total Players</th>\n    </tr>\n  </thead>\n  <tbody>\n    <tr>\n      <th>0</th>\n      <td>576</td>\n    </tr>\n  </tbody>\n</table>\n</div>"
     },
     "metadata": {},
     "execution_count": 2
    }
   ],
   "source": [
    "#Determine the number of players\n",
    "player = len(purchase_data[\"SN\"].unique())\n",
    "player_num = pd.DataFrame({\"Total Players\": [player]})\n",
    "player_num"
   ]
  },
  {
   "cell_type": "code",
   "execution_count": 3,
   "metadata": {
    "scrolled": true
   },
   "outputs": [
    {
     "output_type": "execute_result",
     "data": {
      "text/plain": "<pandas.io.formats.style.Styler at 0x1e4006d7148>",
      "text/html": "<style  type=\"text/css\" >\n</style><table id=\"T_98e0d708_e8e6_11ea_a7c3_74d02ba00d1a\" ><thead>    <tr>        <th class=\"blank level0\" ></th>        <th class=\"col_heading level0 col0\" >Number of Unique Items</th>        <th class=\"col_heading level0 col1\" >Average Price</th>        <th class=\"col_heading level0 col2\" >Number of Purchases</th>        <th class=\"col_heading level0 col3\" >Total Revenue</th>    </tr></thead><tbody>\n                <tr>\n                        <th id=\"T_98e0d708_e8e6_11ea_a7c3_74d02ba00d1alevel0_row0\" class=\"row_heading level0 row0\" >0</th>\n                        <td id=\"T_98e0d708_e8e6_11ea_a7c3_74d02ba00d1arow0_col0\" class=\"data row0 col0\" >179</td>\n                        <td id=\"T_98e0d708_e8e6_11ea_a7c3_74d02ba00d1arow0_col1\" class=\"data row0 col1\" >$3.05</td>\n                        <td id=\"T_98e0d708_e8e6_11ea_a7c3_74d02ba00d1arow0_col2\" class=\"data row0 col2\" >780</td>\n                        <td id=\"T_98e0d708_e8e6_11ea_a7c3_74d02ba00d1arow0_col3\" class=\"data row0 col3\" >$2,379.77</td>\n            </tr>\n    </tbody></table>"
     },
     "metadata": {},
     "execution_count": 3
    }
   ],
   "source": [
    "#Find Purchasing Data\n",
    "\n",
    "#Unique Items\n",
    "items=len(purchase_data[\"Item ID\"].unique())\n",
    "\n",
    "#Average Price of Items Purchased\n",
    "avg_price=purchase_data[\"Price\"].mean()\n",
    "\n",
    "#Number of Purchases\n",
    "num_purchase=len(purchase_data[\"Price\"])\n",
    "\n",
    "#Total Revenue from Purchases\n",
    "total_rev=purchase_data[\"Price\"].sum()\n",
    "\n",
    "#Create DataFrame\n",
    "calc_df=pd.DataFrame({\"Number of Unique Items\":[items],\n",
    "                      \"Average Price\": [avg_price],\n",
    "                      \"Number of Purchases\": [num_purchase],\n",
    "                      \"Total Revenue\": [total_rev]})\n",
    "#Change format\n",
    "calc_df = calc_df.style.format({\"Average Price\": \"${:,.2f}\",\n",
    "                                \"Total Revenue\": \"${:,.2f}\"})\n",
    "calc_df\n",
    "\n"
   ]
  },
  {
   "cell_type": "code",
   "execution_count": 4,
   "metadata": {},
   "outputs": [
    {
     "output_type": "execute_result",
     "data": {
      "text/plain": "                       Total Count Percentage of Players\nMale                           484                84.03%\nFemale                          81                14.06%\nOther / Non-Disclosed           11                 1.91%",
      "text/html": "<div>\n<style scoped>\n    .dataframe tbody tr th:only-of-type {\n        vertical-align: middle;\n    }\n\n    .dataframe tbody tr th {\n        vertical-align: top;\n    }\n\n    .dataframe thead th {\n        text-align: right;\n    }\n</style>\n<table border=\"1\" class=\"dataframe\">\n  <thead>\n    <tr style=\"text-align: right;\">\n      <th></th>\n      <th>Total Count</th>\n      <th>Percentage of Players</th>\n    </tr>\n  </thead>\n  <tbody>\n    <tr>\n      <th>Male</th>\n      <td>484</td>\n      <td>84.03%</td>\n    </tr>\n    <tr>\n      <th>Female</th>\n      <td>81</td>\n      <td>14.06%</td>\n    </tr>\n    <tr>\n      <th>Other / Non-Disclosed</th>\n      <td>11</td>\n      <td>1.91%</td>\n    </tr>\n  </tbody>\n</table>\n</div>"
     },
     "metadata": {},
     "execution_count": 4
    }
   ],
   "source": [
    "#Determine Gender Demographics\n",
    "\n",
    "#Create Dataframe for analysis from total data\n",
    "unique_player=pd.DataFrame({\"SN\":purchase_data[\"SN\"], \n",
    "                            \"Gender\":purchase_data[\"Gender\"],\n",
    "                            \"Age\": purchase_data[\"Age\"]})\n",
    "unique_player=unique_player.drop_duplicates().reset_index(drop=True)\n",
    "\n",
    "#Calculate number of users per gender\n",
    "count=unique_player[\"Gender\"].value_counts()\n",
    "\n",
    "#Build Output Dataframe\n",
    "gender_dem=pd.DataFrame({\"Total Count\": count,\"Percentage of Players\": count*100/player})\n",
    "\n",
    "#Formatting\n",
    "gender_dem[\"Percentage of Players\"] = gender_dem[\"Percentage of Players\"].map(\"{:,.2f}%\".format)\n",
    "gender_dem"
   ]
  },
  {
   "cell_type": "code",
   "execution_count": 5,
   "metadata": {},
   "outputs": [
    {
     "output_type": "execute_result",
     "data": {
      "text/plain": "                       Purchase Count Average Purchase Price  \\\nGender                                                         \nFemale                            113                  $3.20   \nMale                              652                  $3.02   \nOther / Non-Disclosed              15                  $3.35   \n\n                      Total Purchase Price Avg Total Purchase per Person  \nGender                                                                    \nFemale                             $361.94                         $4.47  \nMale                             $1,967.64                         $4.07  \nOther / Non-Disclosed               $50.19                         $4.56  ",
      "text/html": "<div>\n<style scoped>\n    .dataframe tbody tr th:only-of-type {\n        vertical-align: middle;\n    }\n\n    .dataframe tbody tr th {\n        vertical-align: top;\n    }\n\n    .dataframe thead th {\n        text-align: right;\n    }\n</style>\n<table border=\"1\" class=\"dataframe\">\n  <thead>\n    <tr style=\"text-align: right;\">\n      <th></th>\n      <th>Purchase Count</th>\n      <th>Average Purchase Price</th>\n      <th>Total Purchase Price</th>\n      <th>Avg Total Purchase per Person</th>\n    </tr>\n    <tr>\n      <th>Gender</th>\n      <th></th>\n      <th></th>\n      <th></th>\n      <th></th>\n    </tr>\n  </thead>\n  <tbody>\n    <tr>\n      <th>Female</th>\n      <td>113</td>\n      <td>$3.20</td>\n      <td>$361.94</td>\n      <td>$4.47</td>\n    </tr>\n    <tr>\n      <th>Male</th>\n      <td>652</td>\n      <td>$3.02</td>\n      <td>$1,967.64</td>\n      <td>$4.07</td>\n    </tr>\n    <tr>\n      <th>Other / Non-Disclosed</th>\n      <td>15</td>\n      <td>$3.35</td>\n      <td>$50.19</td>\n      <td>$4.56</td>\n    </tr>\n  </tbody>\n</table>\n</div>"
     },
     "metadata": {},
     "execution_count": 5
    }
   ],
   "source": [
    "#Purchasing Analysis by Gender\n",
    "\n",
    "#Create Dataframe for analysis from total data\n",
    "players=pd.DataFrame({\"Gender\":purchase_data[\"Gender\"],\n",
    "                      \"Price\": purchase_data[\"Price\"]})\n",
    "\n",
    "#Group by gender and calculate\n",
    "purchase_count=players.groupby([\"Gender\"]).count()\n",
    "avg_purch_price=players.groupby([\"Gender\"]).mean()\n",
    "tot_purch_price=players.groupby([\"Gender\"]).sum()\n",
    "\n",
    "#create gender counts dataframe from previous calculation\n",
    "gender_counts=pd.DataFrame({\"Gender Counts\": count})\n",
    "gender_counts['labels']=gender_counts.index.str.lower()\n",
    "gender_counts = gender_counts.sort_values('labels').drop('labels',axis=1)\n",
    "\n",
    "#Build output dataframe\n",
    "gender_purchase=pd.DataFrame({\"Purchase Count\": purchase_count[\"Price\"],\n",
    "                              \"Average Purchase Price\": avg_purch_price[\"Price\"],\n",
    "                              \"Total Purchase Price\": tot_purch_price[\"Price\"],\n",
    "                              \"Avg Total Purchase per Person\":tot_purch_price[\"Price\"]/gender_counts[\"Gender Counts\"]})\n",
    "\n",
    "#Formatting\n",
    "gender_purchase[\"Average Purchase Price\"]=gender_purchase[\"Average Purchase Price\"].map(\"${:,.2f}\".format)\n",
    "gender_purchase[\"Total Purchase Price\"]=gender_purchase[\"Total Purchase Price\"].map(\"${:,.2f}\".format)\n",
    "gender_purchase[\"Avg Total Purchase per Person\"]=gender_purchase[\"Avg Total Purchase per Person\"].map(\"${:,.2f}\".format)\n",
    "gender_purchase"
   ]
  },
  {
   "cell_type": "code",
   "execution_count": 6,
   "metadata": {},
   "outputs": [
    {
     "output_type": "execute_result",
     "data": {
      "text/plain": "<pandas.io.formats.style.Styler at 0x1e400d37508>",
      "text/html": "<style  type=\"text/css\" >\n</style><table id=\"T_9bf70378_e8e6_11ea_bb28_74d02ba00d1a\" ><thead>    <tr>        <th class=\"blank level0\" ></th>        <th class=\"col_heading level0 col0\" >Total Count</th>        <th class=\"col_heading level0 col1\" >Percentage of Players</th>    </tr></thead><tbody>\n                <tr>\n                        <th id=\"T_9bf70378_e8e6_11ea_bb28_74d02ba00d1alevel0_row0\" class=\"row_heading level0 row0\" ><10</th>\n                        <td id=\"T_9bf70378_e8e6_11ea_bb28_74d02ba00d1arow0_col0\" class=\"data row0 col0\" >17</td>\n                        <td id=\"T_9bf70378_e8e6_11ea_bb28_74d02ba00d1arow0_col1\" class=\"data row0 col1\" >2.95%</td>\n            </tr>\n            <tr>\n                        <th id=\"T_9bf70378_e8e6_11ea_bb28_74d02ba00d1alevel0_row1\" class=\"row_heading level0 row1\" >10-14</th>\n                        <td id=\"T_9bf70378_e8e6_11ea_bb28_74d02ba00d1arow1_col0\" class=\"data row1 col0\" >22</td>\n                        <td id=\"T_9bf70378_e8e6_11ea_bb28_74d02ba00d1arow1_col1\" class=\"data row1 col1\" >3.82%</td>\n            </tr>\n            <tr>\n                        <th id=\"T_9bf70378_e8e6_11ea_bb28_74d02ba00d1alevel0_row2\" class=\"row_heading level0 row2\" >15-19</th>\n                        <td id=\"T_9bf70378_e8e6_11ea_bb28_74d02ba00d1arow2_col0\" class=\"data row2 col0\" >107</td>\n                        <td id=\"T_9bf70378_e8e6_11ea_bb28_74d02ba00d1arow2_col1\" class=\"data row2 col1\" >18.58%</td>\n            </tr>\n            <tr>\n                        <th id=\"T_9bf70378_e8e6_11ea_bb28_74d02ba00d1alevel0_row3\" class=\"row_heading level0 row3\" >20-24</th>\n                        <td id=\"T_9bf70378_e8e6_11ea_bb28_74d02ba00d1arow3_col0\" class=\"data row3 col0\" >258</td>\n                        <td id=\"T_9bf70378_e8e6_11ea_bb28_74d02ba00d1arow3_col1\" class=\"data row3 col1\" >44.79%</td>\n            </tr>\n            <tr>\n                        <th id=\"T_9bf70378_e8e6_11ea_bb28_74d02ba00d1alevel0_row4\" class=\"row_heading level0 row4\" >25-29</th>\n                        <td id=\"T_9bf70378_e8e6_11ea_bb28_74d02ba00d1arow4_col0\" class=\"data row4 col0\" >77</td>\n                        <td id=\"T_9bf70378_e8e6_11ea_bb28_74d02ba00d1arow4_col1\" class=\"data row4 col1\" >13.37%</td>\n            </tr>\n            <tr>\n                        <th id=\"T_9bf70378_e8e6_11ea_bb28_74d02ba00d1alevel0_row5\" class=\"row_heading level0 row5\" >30-34</th>\n                        <td id=\"T_9bf70378_e8e6_11ea_bb28_74d02ba00d1arow5_col0\" class=\"data row5 col0\" >52</td>\n                        <td id=\"T_9bf70378_e8e6_11ea_bb28_74d02ba00d1arow5_col1\" class=\"data row5 col1\" >9.03%</td>\n            </tr>\n            <tr>\n                        <th id=\"T_9bf70378_e8e6_11ea_bb28_74d02ba00d1alevel0_row6\" class=\"row_heading level0 row6\" >35-39</th>\n                        <td id=\"T_9bf70378_e8e6_11ea_bb28_74d02ba00d1arow6_col0\" class=\"data row6 col0\" >31</td>\n                        <td id=\"T_9bf70378_e8e6_11ea_bb28_74d02ba00d1arow6_col1\" class=\"data row6 col1\" >5.38%</td>\n            </tr>\n            <tr>\n                        <th id=\"T_9bf70378_e8e6_11ea_bb28_74d02ba00d1alevel0_row7\" class=\"row_heading level0 row7\" >40+</th>\n                        <td id=\"T_9bf70378_e8e6_11ea_bb28_74d02ba00d1arow7_col0\" class=\"data row7 col0\" >12</td>\n                        <td id=\"T_9bf70378_e8e6_11ea_bb28_74d02ba00d1arow7_col1\" class=\"data row7 col1\" >2.08%</td>\n            </tr>\n    </tbody></table>"
     },
     "metadata": {},
     "execution_count": 6
    }
   ],
   "source": [
    "#Age Demographics\n",
    "\n",
    "#Labelling bins\n",
    "bins_cuts=[0,9,14,19,24,29,34,39,1000]\n",
    "bin_labels=['<10','10-14','15-19','20-24','25-29','30-34','35-39','40+']\n",
    "\n",
    "unique_player['Age-Binned']=pd.cut(unique_player['Age'], bins=bins_cuts, labels=bin_labels)\n",
    "\n",
    "bins=unique_player[\"Age-Binned\"].value_counts()\n",
    "bins=bins.sort_index()\n",
    "\n",
    "#Calculate numbers per bin\n",
    "for x in range(len(bins)):\n",
    "    z=pd.DataFrame({\"Total Count\": [bins[x]], \"Percentage of Players\": [bins[x]/player]},\n",
    "                    index=[bin_labels[x]])\n",
    "    if x==0:\n",
    "        Ages=z\n",
    "    else:\n",
    "        Ages=Ages.append(z)\n",
    "\n",
    "Ages=Ages.style.format({\"Percentage of Players\": \"{:.2%}\"})\n",
    "\n",
    "Ages"
   ]
  },
  {
   "cell_type": "code",
   "execution_count": 7,
   "metadata": {},
   "outputs": [
    {
     "output_type": "execute_result",
     "data": {
      "text/plain": "            Purchase Count Average Purchase Price Total Purchase Value  \\\nAge Ranges                                                               \n<10                     23                  $3.35               $77.13   \n10-14                   28                  $2.96               $82.78   \n15-19                  136                  $3.04              $412.89   \n20-24                  365                  $3.05            $1,114.06   \n25-29                  101                  $2.90              $293.00   \n30-34                   73                  $2.93              $214.00   \n35-39                   41                  $3.60              $147.67   \n40+                     13                  $2.94               $38.24   \n\n           Avg Total Purchase per Person  \nAge Ranges                                \n<10                                $3.35  \n10-14                              $2.96  \n15-19                              $3.04  \n20-24                              $3.05  \n25-29                              $2.90  \n30-34                              $2.93  \n35-39                              $3.60  \n40+                                $2.94  ",
      "text/html": "<div>\n<style scoped>\n    .dataframe tbody tr th:only-of-type {\n        vertical-align: middle;\n    }\n\n    .dataframe tbody tr th {\n        vertical-align: top;\n    }\n\n    .dataframe thead th {\n        text-align: right;\n    }\n</style>\n<table border=\"1\" class=\"dataframe\">\n  <thead>\n    <tr style=\"text-align: right;\">\n      <th></th>\n      <th>Purchase Count</th>\n      <th>Average Purchase Price</th>\n      <th>Total Purchase Value</th>\n      <th>Avg Total Purchase per Person</th>\n    </tr>\n    <tr>\n      <th>Age Ranges</th>\n      <th></th>\n      <th></th>\n      <th></th>\n      <th></th>\n    </tr>\n  </thead>\n  <tbody>\n    <tr>\n      <th>&lt;10</th>\n      <td>23</td>\n      <td>$3.35</td>\n      <td>$77.13</td>\n      <td>$3.35</td>\n    </tr>\n    <tr>\n      <th>10-14</th>\n      <td>28</td>\n      <td>$2.96</td>\n      <td>$82.78</td>\n      <td>$2.96</td>\n    </tr>\n    <tr>\n      <th>15-19</th>\n      <td>136</td>\n      <td>$3.04</td>\n      <td>$412.89</td>\n      <td>$3.04</td>\n    </tr>\n    <tr>\n      <th>20-24</th>\n      <td>365</td>\n      <td>$3.05</td>\n      <td>$1,114.06</td>\n      <td>$3.05</td>\n    </tr>\n    <tr>\n      <th>25-29</th>\n      <td>101</td>\n      <td>$2.90</td>\n      <td>$293.00</td>\n      <td>$2.90</td>\n    </tr>\n    <tr>\n      <th>30-34</th>\n      <td>73</td>\n      <td>$2.93</td>\n      <td>$214.00</td>\n      <td>$2.93</td>\n    </tr>\n    <tr>\n      <th>35-39</th>\n      <td>41</td>\n      <td>$3.60</td>\n      <td>$147.67</td>\n      <td>$3.60</td>\n    </tr>\n    <tr>\n      <th>40+</th>\n      <td>13</td>\n      <td>$2.94</td>\n      <td>$38.24</td>\n      <td>$2.94</td>\n    </tr>\n  </tbody>\n</table>\n</div>"
     },
     "metadata": {},
     "execution_count": 7
    }
   ],
   "source": [
    "#Purchasing Analysis by Age\n",
    "\n",
    "#Create Dataframe for calculations\n",
    "purch_age=pd.DataFrame({\"Age\":purchase_data[\"Age\"],\n",
    "                        \"Price\": purchase_data[\"Price\"]})\n",
    "#Re-bin new dataframe\n",
    "purch_age['Age-Binned']=pd.cut(purch_age['Age'], bins=bins_cuts, labels=bin_labels)\n",
    "\n",
    "#Calculate values through groupby\n",
    "p_count=purch_age.groupby([\"Age-Binned\"]).count()\n",
    "p_mean=purch_age.groupby([\"Age-Binned\"]).mean()\n",
    "p_sum=purch_age.groupby([\"Age-Binned\"]).sum()\n",
    "\n",
    "#Build output dataframe\n",
    "Purchase_age=pd.DataFrame({\"Purchase Count\": p_count[\"Price\"],\n",
    "                           \"Average Purchase Price\": p_mean[\"Price\"],\n",
    "                           \"Total Purchase Value\": p_sum[\"Price\"],\n",
    "                           \"Avg Total Purchase per Person\": p_sum[\"Price\"]/p_count[\"Price\"]})\n",
    "\n",
    "#Formatting\n",
    "Purchase_age.index.name=\"Age Ranges\"\n",
    "Purchase_age[\"Average Purchase Price\"]=Purchase_age[\"Average Purchase Price\"].map(\"${:,.2f}\".format)\n",
    "Purchase_age[\"Total Purchase Value\"]=Purchase_age[\"Total Purchase Value\"].map(\"${:,.2f}\".format)\n",
    "Purchase_age[\"Avg Total Purchase per Person\"]=Purchase_age[\"Avg Total Purchase per Person\"].map(\"${:,.2f}\".format)\n",
    "Purchase_age"
   ]
  },
  {
   "cell_type": "code",
   "execution_count": 8,
   "metadata": {},
   "outputs": [
    {
     "output_type": "execute_result",
     "data": {
      "text/plain": "             Purchase Count Average Purchase Price Total Purchase Value\nSN                                                                     \nLisosia93                 5                  $3.79               $18.96\nIdastidru52               4                  $3.86               $15.45\nChamjask73                3                  $4.61               $13.83\nIral74                    4                  $3.40               $13.62\nIskadarya95               3                  $4.37               $13.10",
      "text/html": "<div>\n<style scoped>\n    .dataframe tbody tr th:only-of-type {\n        vertical-align: middle;\n    }\n\n    .dataframe tbody tr th {\n        vertical-align: top;\n    }\n\n    .dataframe thead th {\n        text-align: right;\n    }\n</style>\n<table border=\"1\" class=\"dataframe\">\n  <thead>\n    <tr style=\"text-align: right;\">\n      <th></th>\n      <th>Purchase Count</th>\n      <th>Average Purchase Price</th>\n      <th>Total Purchase Value</th>\n    </tr>\n    <tr>\n      <th>SN</th>\n      <th></th>\n      <th></th>\n      <th></th>\n    </tr>\n  </thead>\n  <tbody>\n    <tr>\n      <th>Lisosia93</th>\n      <td>5</td>\n      <td>$3.79</td>\n      <td>$18.96</td>\n    </tr>\n    <tr>\n      <th>Idastidru52</th>\n      <td>4</td>\n      <td>$3.86</td>\n      <td>$15.45</td>\n    </tr>\n    <tr>\n      <th>Chamjask73</th>\n      <td>3</td>\n      <td>$4.61</td>\n      <td>$13.83</td>\n    </tr>\n    <tr>\n      <th>Iral74</th>\n      <td>4</td>\n      <td>$3.40</td>\n      <td>$13.62</td>\n    </tr>\n    <tr>\n      <th>Iskadarya95</th>\n      <td>3</td>\n      <td>$4.37</td>\n      <td>$13.10</td>\n    </tr>\n  </tbody>\n</table>\n</div>"
     },
     "metadata": {},
     "execution_count": 8
    }
   ],
   "source": [
    "#Top Spenders List\n",
    "\n",
    "#Create Dataframe for analysis\n",
    "spender_list=pd.DataFrame({\"SN\":purchase_data[\"SN\"],\n",
    "                           \"Price\": purchase_data[\"Price\"]})\n",
    "\n",
    "#Calculate values\n",
    "spend_count=spender_list.groupby(\"SN\").count()\n",
    "spend_mean=spender_list.groupby(\"SN\").mean()\n",
    "spend_sum=spender_list.groupby(\"SN\").sum()\n",
    "\n",
    "#Build output DataFrame\n",
    "top_spender=pd.DataFrame({\"Purchase Count\": spend_count[\"Price\"],\n",
    "                          \"Average Purchase Price\": spend_mean[\"Price\"],\n",
    "                          \"Total Purchase Value\": spend_sum[\"Price\"]})\n",
    "\n",
    "#Formatting\n",
    "top_spender=top_spender.sort_values(\"Total Purchase Value\", ascending=False)\n",
    "top_spender[\"Average Purchase Price\"]=top_spender[\"Average Purchase Price\"].map(\"${:,.2f}\".format)\n",
    "top_spender[\"Total Purchase Value\"]=top_spender[\"Total Purchase Value\"].map(\"${:,.2f}\".format)\n",
    "\n",
    "top_spender.head()\n"
   ]
  },
  {
   "cell_type": "code",
   "execution_count": 9,
   "metadata": {},
   "outputs": [
    {
     "output_type": "execute_result",
     "data": {
      "text/plain": "                                                      Purchase Count  \\\nItem ID Item Name                                                      \n92      Final Critic                                              13   \n178     Oathbreaker, Last Hope of the Breaking Storm              12   \n145     Fiery Glass Crusader                                       9   \n132     Persuasion                                                 9   \n108     Extraction, Quickblade Of Trembling Hands                  9   \n\n                                                     Item Price  \\\nItem ID Item Name                                                 \n92      Final Critic                                      $4.61   \n178     Oathbreaker, Last Hope of the Breaking Storm      $4.23   \n145     Fiery Glass Crusader                              $4.58   \n132     Persuasion                                        $3.22   \n108     Extraction, Quickblade Of Trembling Hands         $3.53   \n\n                                                     Total Purchase Value  \nItem ID Item Name                                                          \n92      Final Critic                                               $59.99  \n178     Oathbreaker, Last Hope of the Breaking Storm               $50.76  \n145     Fiery Glass Crusader                                       $41.22  \n132     Persuasion                                                 $28.99  \n108     Extraction, Quickblade Of Trembling Hands                  $31.77  ",
      "text/html": "<div>\n<style scoped>\n    .dataframe tbody tr th:only-of-type {\n        vertical-align: middle;\n    }\n\n    .dataframe tbody tr th {\n        vertical-align: top;\n    }\n\n    .dataframe thead th {\n        text-align: right;\n    }\n</style>\n<table border=\"1\" class=\"dataframe\">\n  <thead>\n    <tr style=\"text-align: right;\">\n      <th></th>\n      <th></th>\n      <th>Purchase Count</th>\n      <th>Item Price</th>\n      <th>Total Purchase Value</th>\n    </tr>\n    <tr>\n      <th>Item ID</th>\n      <th>Item Name</th>\n      <th></th>\n      <th></th>\n      <th></th>\n    </tr>\n  </thead>\n  <tbody>\n    <tr>\n      <th>92</th>\n      <th>Final Critic</th>\n      <td>13</td>\n      <td>$4.61</td>\n      <td>$59.99</td>\n    </tr>\n    <tr>\n      <th>178</th>\n      <th>Oathbreaker, Last Hope of the Breaking Storm</th>\n      <td>12</td>\n      <td>$4.23</td>\n      <td>$50.76</td>\n    </tr>\n    <tr>\n      <th>145</th>\n      <th>Fiery Glass Crusader</th>\n      <td>9</td>\n      <td>$4.58</td>\n      <td>$41.22</td>\n    </tr>\n    <tr>\n      <th>132</th>\n      <th>Persuasion</th>\n      <td>9</td>\n      <td>$3.22</td>\n      <td>$28.99</td>\n    </tr>\n    <tr>\n      <th>108</th>\n      <th>Extraction, Quickblade Of Trembling Hands</th>\n      <td>9</td>\n      <td>$3.53</td>\n      <td>$31.77</td>\n    </tr>\n  </tbody>\n</table>\n</div>"
     },
     "metadata": {},
     "execution_count": 9
    }
   ],
   "source": [
    "#Most Popular Items\n",
    "\n",
    "#Create Dataframe for analysis\n",
    "item=pd.DataFrame({\"Item Name\": purchase_data[\"Item Name\"],\n",
    "                   \"Item ID\": purchase_data[\"Item ID\"],\n",
    "                   \"Price\": purchase_data[\"Price\"]})\n",
    "\n",
    "#Calculate values\n",
    "item_count=item.groupby([\"Item ID\",\"Item Name\"]).count()\n",
    "item_mean=item.groupby([\"Item ID\",\"Item Name\"]).mean()\n",
    "item_sum=item.groupby([\"Item ID\",\"Item Name\"]).sum()\n",
    "\n",
    "#Build output DataFrame\n",
    "item_popular=pd.DataFrame({\"Purchase Count\":item_count[\"Price\"],\n",
    "                           \"Item Price\": item_mean[\"Price\"],\n",
    "                           \"Total Purchase Value\": item_sum[\"Price\"]})\n",
    "\n",
    "#Formatting\n",
    "item_popular=item_popular.sort_values([\"Purchase Count\",\"Item ID\"], ascending=False)\n",
    "item_profit=item_popular.sort_values([\"Total Purchase Value\"], ascending=False) #Save before formatting for next part\n",
    "item_popular[\"Item Price\"]=item_popular[\"Item Price\"].map(\"${:,.2f}\".format)\n",
    "item_popular[\"Total Purchase Value\"]=item_popular[\"Total Purchase Value\"].map(\"${:,.2f}\".format)\n",
    "item_popular.head()"
   ]
  },
  {
   "cell_type": "code",
   "execution_count": 10,
   "metadata": {
    "scrolled": true
   },
   "outputs": [
    {
     "output_type": "execute_result",
     "data": {
      "text/plain": "                                                      Purchase Count  \\\nItem ID Item Name                                                      \n92      Final Critic                                              13   \n178     Oathbreaker, Last Hope of the Breaking Storm              12   \n82      Nirvana                                                    9   \n145     Fiery Glass Crusader                                       9   \n103     Singed Scalpel                                             8   \n\n                                                     Item Price  \\\nItem ID Item Name                                                 \n92      Final Critic                                      $4.61   \n178     Oathbreaker, Last Hope of the Breaking Storm      $4.23   \n82      Nirvana                                           $4.90   \n145     Fiery Glass Crusader                              $4.58   \n103     Singed Scalpel                                    $4.35   \n\n                                                     Total Purchase Value  \nItem ID Item Name                                                          \n92      Final Critic                                               $59.99  \n178     Oathbreaker, Last Hope of the Breaking Storm               $50.76  \n82      Nirvana                                                    $44.10  \n145     Fiery Glass Crusader                                       $41.22  \n103     Singed Scalpel                                             $34.80  ",
      "text/html": "<div>\n<style scoped>\n    .dataframe tbody tr th:only-of-type {\n        vertical-align: middle;\n    }\n\n    .dataframe tbody tr th {\n        vertical-align: top;\n    }\n\n    .dataframe thead th {\n        text-align: right;\n    }\n</style>\n<table border=\"1\" class=\"dataframe\">\n  <thead>\n    <tr style=\"text-align: right;\">\n      <th></th>\n      <th></th>\n      <th>Purchase Count</th>\n      <th>Item Price</th>\n      <th>Total Purchase Value</th>\n    </tr>\n    <tr>\n      <th>Item ID</th>\n      <th>Item Name</th>\n      <th></th>\n      <th></th>\n      <th></th>\n    </tr>\n  </thead>\n  <tbody>\n    <tr>\n      <th>92</th>\n      <th>Final Critic</th>\n      <td>13</td>\n      <td>$4.61</td>\n      <td>$59.99</td>\n    </tr>\n    <tr>\n      <th>178</th>\n      <th>Oathbreaker, Last Hope of the Breaking Storm</th>\n      <td>12</td>\n      <td>$4.23</td>\n      <td>$50.76</td>\n    </tr>\n    <tr>\n      <th>82</th>\n      <th>Nirvana</th>\n      <td>9</td>\n      <td>$4.90</td>\n      <td>$44.10</td>\n    </tr>\n    <tr>\n      <th>145</th>\n      <th>Fiery Glass Crusader</th>\n      <td>9</td>\n      <td>$4.58</td>\n      <td>$41.22</td>\n    </tr>\n    <tr>\n      <th>103</th>\n      <th>Singed Scalpel</th>\n      <td>8</td>\n      <td>$4.35</td>\n      <td>$34.80</td>\n    </tr>\n  </tbody>\n</table>\n</div>"
     },
     "metadata": {},
     "execution_count": 10
    }
   ],
   "source": [
    "#Most Profitable Items\n",
    "\n",
    "#Formatting\n",
    "item_profit[\"Item Price\"]=item_profit[\"Item Price\"].map(\"${:,.2f}\".format)\n",
    "item_profit[\"Total Purchase Value\"]=item_profit[\"Total Purchase Value\"].map(\"${:,.2f}\".format)\n",
    "item_profit.head()"
   ]
  },
  {
   "cell_type": "code",
   "execution_count": null,
   "metadata": {},
   "outputs": [],
   "source": []
  }
 ],
 "metadata": {
  "anaconda-cloud": {},
  "kernel_info": {
   "name": "python3"
  },
  "kernelspec": {
   "display_name": "Python 3",
   "language": "python",
   "name": "python3"
  },
  "language_info": {
   "codemirror_mode": {
    "name": "ipython",
    "version": 3
   },
   "file_extension": ".py",
   "mimetype": "text/x-python",
   "name": "python",
   "nbconvert_exporter": "python",
   "pygments_lexer": "ipython3",
   "version": "3.7.7-final"
  },
  "latex_envs": {
   "LaTeX_envs_menu_present": true,
   "autoclose": false,
   "autocomplete": true,
   "bibliofile": "biblio.bib",
   "cite_by": "apalike",
   "current_citInitial": 1,
   "eqLabelWithNumbers": true,
   "eqNumInitial": 1,
   "hotkeys": {
    "equation": "Ctrl-E",
    "itemize": "Ctrl-I"
   },
   "labels_anchors": false,
   "latex_user_defs": false,
   "report_style_numbering": false,
   "user_envs_cfg": false
  },
  "nteract": {
   "version": "0.2.0"
  }
 },
 "nbformat": 4,
 "nbformat_minor": 2
}